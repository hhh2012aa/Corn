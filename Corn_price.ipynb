{
 "cells": [
  {
   "cell_type": "code",
   "execution_count": 28,
   "metadata": {},
   "outputs": [],
   "source": [
    "import numpy as np\n",
    "import matplotlib.pyplot as plt\n",
    "import pandas as pd\n"
   ]
  },
  {
   "cell_type": "code",
   "execution_count": 29,
   "metadata": {},
   "outputs": [],
   "source": [
    "dataset_train = pd.read_csv('corn.csv')\n",
    "training_set = dataset_train.iloc[:, 1:2].values"
   ]
  },
  {
   "cell_type": "code",
   "execution_count": 30,
   "metadata": {},
   "outputs": [
    {
     "data": {
      "text/html": [
       "<div>\n",
       "<style scoped>\n",
       "    .dataframe tbody tr th:only-of-type {\n",
       "        vertical-align: middle;\n",
       "    }\n",
       "\n",
       "    .dataframe tbody tr th {\n",
       "        vertical-align: top;\n",
       "    }\n",
       "\n",
       "    .dataframe thead th {\n",
       "        text-align: right;\n",
       "    }\n",
       "</style>\n",
       "<table border=\"1\" class=\"dataframe\">\n",
       "  <thead>\n",
       "    <tr style=\"text-align: right;\">\n",
       "      <th></th>\n",
       "      <th>Date</th>\n",
       "      <th>Close</th>\n",
       "      <th>Open</th>\n",
       "      <th>Hign</th>\n",
       "      <th>Low</th>\n",
       "      <th>Volume</th>\n",
       "      <th>Percent</th>\n",
       "    </tr>\n",
       "  </thead>\n",
       "  <tbody>\n",
       "    <tr>\n",
       "      <th>0</th>\n",
       "      <td>2019年11月8日</td>\n",
       "      <td>377.25</td>\n",
       "      <td>375.25</td>\n",
       "      <td>383.75</td>\n",
       "      <td>372.50</td>\n",
       "      <td>-</td>\n",
       "      <td>0.53%</td>\n",
       "    </tr>\n",
       "    <tr>\n",
       "      <th>1</th>\n",
       "      <td>2019年11月7日</td>\n",
       "      <td>375.25</td>\n",
       "      <td>379.25</td>\n",
       "      <td>380.00</td>\n",
       "      <td>373.75</td>\n",
       "      <td>219.15K</td>\n",
       "      <td>-0.92%</td>\n",
       "    </tr>\n",
       "    <tr>\n",
       "      <th>2</th>\n",
       "      <td>2019年11月6日</td>\n",
       "      <td>378.75</td>\n",
       "      <td>382.25</td>\n",
       "      <td>385.00</td>\n",
       "      <td>377.50</td>\n",
       "      <td>185.34K</td>\n",
       "      <td>-0.79%</td>\n",
       "    </tr>\n",
       "    <tr>\n",
       "      <th>3</th>\n",
       "      <td>2019年11月5日</td>\n",
       "      <td>381.75</td>\n",
       "      <td>383.25</td>\n",
       "      <td>384.75</td>\n",
       "      <td>380.50</td>\n",
       "      <td>157.13K</td>\n",
       "      <td>-0.39%</td>\n",
       "    </tr>\n",
       "    <tr>\n",
       "      <th>4</th>\n",
       "      <td>2019年11月4日</td>\n",
       "      <td>383.25</td>\n",
       "      <td>386.75</td>\n",
       "      <td>387.75</td>\n",
       "      <td>383.00</td>\n",
       "      <td>145.37K</td>\n",
       "      <td>-1.54%</td>\n",
       "    </tr>\n",
       "  </tbody>\n",
       "</table>\n",
       "</div>"
      ],
      "text/plain": [
       "         Date  Close     Open    Hign     Low   Volume Percent\n",
       "0  2019年11月8日  377.25  375.25  383.75  372.50        -   0.53%\n",
       "1  2019年11月7日  375.25  379.25  380.00  373.75  219.15K  -0.92%\n",
       "2  2019年11月6日  378.75  382.25  385.00  377.50  185.34K  -0.79%\n",
       "3  2019年11月5日  381.75  383.25  384.75  380.50  157.13K  -0.39%\n",
       "4  2019年11月4日  383.25  386.75  387.75  383.00  145.37K  -1.54%"
      ]
     },
     "execution_count": 30,
     "metadata": {},
     "output_type": "execute_result"
    }
   ],
   "source": [
    "dataset_train.head()"
   ]
  },
  {
   "cell_type": "code",
   "execution_count": 31,
   "metadata": {},
   "outputs": [],
   "source": [
    "from sklearn.preprocessing import MinMaxScaler\n",
    "sc = MinMaxScaler(feature_range = (0, 1))\n",
    "training_set_scaled = sc.fit_transform(training_set)"
   ]
  },
  {
   "cell_type": "code",
   "execution_count": 32,
   "metadata": {},
   "outputs": [],
   "source": [
    "def show_train_history(train_history, train, validation):\n",
    "    plt.plot(train_history.history[train])\n",
    "    plt.plot(train_history.history[validation])\n",
    "    plt.title('Train History')\n",
    "    plt.ylabel(train)\n",
    "    plt.xlabel('Epoch')\n",
    "    plt.legend(['train','validation'], loc='upper left')\n",
    "    plt.show()"
   ]
  },
  {
   "cell_type": "code",
   "execution_count": 33,
   "metadata": {},
   "outputs": [],
   "source": [
    "X_train = []\n",
    "y_train = []\n",
    "for i in range(60, 2000):\n",
    "    X_train.append(training_set_scaled[i-60:i, 0])\n",
    "    y_train.append(training_set_scaled[i, 0])\n",
    "X_train, y_train = np.array(X_train), np.array(y_train)\n",
    "\n",
    "X_train = np.reshape(X_train, (X_train.shape[0], X_train.shape[1], 1))"
   ]
  },
  {
   "cell_type": "code",
   "execution_count": 36,
   "metadata": {},
   "outputs": [
    {
     "data": {
      "text/plain": [
       "array([0.11184521, 0.10854176, 0.12175555, ..., 0.60311468, 0.56677678,\n",
       "       0.59509202])"
      ]
     },
     "execution_count": 36,
     "metadata": {},
     "output_type": "execute_result"
    }
   ],
   "source": [
    "y_train"
   ]
  },
  {
   "cell_type": "code",
   "execution_count": 34,
   "metadata": {},
   "outputs": [],
   "source": [
    "from keras.models import Sequential\n",
    "from keras.layers import Dense\n",
    "from keras.layers import LSTM\n",
    "from keras.layers import Dropout"
   ]
  },
  {
   "cell_type": "code",
   "execution_count": 35,
   "metadata": {},
   "outputs": [
    {
     "name": "stdout",
     "output_type": "stream",
     "text": [
      "Train on 1746 samples, validate on 194 samples\n",
      "Epoch 1/100\n",
      " - 6s - loss: 0.0083 - accuracy: 5.7274e-04 - val_loss: 0.0211 - val_accuracy: 0.0052\n",
      "Epoch 2/100\n",
      " - 4s - loss: 0.0031 - accuracy: 5.7274e-04 - val_loss: 0.0068 - val_accuracy: 0.0052\n",
      "Epoch 3/100\n",
      " - 4s - loss: 0.0028 - accuracy: 5.7274e-04 - val_loss: 0.0064 - val_accuracy: 0.0052\n",
      "Epoch 4/100\n",
      " - 4s - loss: 0.0024 - accuracy: 5.7274e-04 - val_loss: 0.0066 - val_accuracy: 0.0052\n",
      "Epoch 5/100\n",
      " - 4s - loss: 0.0027 - accuracy: 5.7274e-04 - val_loss: 0.0050 - val_accuracy: 0.0052\n",
      "Epoch 6/100\n",
      " - 4s - loss: 0.0024 - accuracy: 5.7274e-04 - val_loss: 0.0045 - val_accuracy: 0.0052\n",
      "Epoch 7/100\n",
      " - 4s - loss: 0.0021 - accuracy: 5.7274e-04 - val_loss: 0.0075 - val_accuracy: 0.0052\n",
      "Epoch 8/100\n",
      " - 4s - loss: 0.0019 - accuracy: 5.7274e-04 - val_loss: 0.0050 - val_accuracy: 0.0052\n",
      "Epoch 9/100\n",
      " - 4s - loss: 0.0019 - accuracy: 5.7274e-04 - val_loss: 0.0058 - val_accuracy: 0.0052\n",
      "Epoch 10/100\n",
      " - 4s - loss: 0.0016 - accuracy: 5.7274e-04 - val_loss: 0.0093 - val_accuracy: 0.0052\n",
      "Epoch 11/100\n",
      " - 4s - loss: 0.0023 - accuracy: 5.7274e-04 - val_loss: 0.0033 - val_accuracy: 0.0052\n",
      "Epoch 12/100\n",
      " - 4s - loss: 0.0016 - accuracy: 5.7274e-04 - val_loss: 0.0034 - val_accuracy: 0.0052\n",
      "Epoch 13/100\n",
      " - 4s - loss: 0.0017 - accuracy: 5.7274e-04 - val_loss: 0.0043 - val_accuracy: 0.0052\n",
      "Epoch 14/100\n",
      " - 4s - loss: 0.0017 - accuracy: 5.7274e-04 - val_loss: 0.0037 - val_accuracy: 0.0052\n",
      "Epoch 15/100\n",
      " - 4s - loss: 0.0014 - accuracy: 5.7274e-04 - val_loss: 0.0032 - val_accuracy: 0.0052\n",
      "Epoch 16/100\n",
      " - 4s - loss: 0.0013 - accuracy: 5.7274e-04 - val_loss: 0.0082 - val_accuracy: 0.0052\n",
      "Epoch 17/100\n",
      " - 4s - loss: 0.0014 - accuracy: 5.7274e-04 - val_loss: 0.0039 - val_accuracy: 0.0052\n",
      "Epoch 18/100\n",
      " - 4s - loss: 0.0013 - accuracy: 5.7274e-04 - val_loss: 0.0028 - val_accuracy: 0.0052\n",
      "Epoch 19/100\n",
      " - 4s - loss: 0.0014 - accuracy: 5.7274e-04 - val_loss: 0.0130 - val_accuracy: 0.0052\n",
      "Epoch 20/100\n",
      " - 4s - loss: 0.0014 - accuracy: 5.7274e-04 - val_loss: 0.0038 - val_accuracy: 0.0052\n",
      "Epoch 21/100\n",
      " - 4s - loss: 0.0015 - accuracy: 5.7274e-04 - val_loss: 0.0030 - val_accuracy: 0.0052\n",
      "Epoch 22/100\n",
      " - 4s - loss: 0.0012 - accuracy: 5.7274e-04 - val_loss: 0.0032 - val_accuracy: 0.0052\n",
      "Epoch 23/100\n",
      " - 5s - loss: 0.0014 - accuracy: 5.7274e-04 - val_loss: 0.0047 - val_accuracy: 0.0052\n",
      "Epoch 24/100\n",
      " - 4s - loss: 0.0014 - accuracy: 5.7274e-04 - val_loss: 0.0028 - val_accuracy: 0.0052\n",
      "Epoch 25/100\n",
      " - 4s - loss: 0.0013 - accuracy: 5.7274e-04 - val_loss: 0.0048 - val_accuracy: 0.0052\n",
      "Epoch 26/100\n",
      " - 4s - loss: 0.0013 - accuracy: 5.7274e-04 - val_loss: 0.0028 - val_accuracy: 0.0052\n",
      "Epoch 27/100\n",
      " - 4s - loss: 0.0011 - accuracy: 5.7274e-04 - val_loss: 0.0034 - val_accuracy: 0.0052\n",
      "Epoch 28/100\n",
      " - 4s - loss: 0.0013 - accuracy: 5.7274e-04 - val_loss: 0.0082 - val_accuracy: 0.0052\n",
      "Epoch 29/100\n",
      " - 4s - loss: 0.0013 - accuracy: 5.7274e-04 - val_loss: 0.0037 - val_accuracy: 0.0052\n",
      "Epoch 30/100\n",
      " - 5s - loss: 0.0012 - accuracy: 5.7274e-04 - val_loss: 0.0031 - val_accuracy: 0.0052\n",
      "Epoch 31/100\n",
      " - 4s - loss: 0.0012 - accuracy: 5.7274e-04 - val_loss: 0.0027 - val_accuracy: 0.0052\n",
      "Epoch 32/100\n",
      " - 4s - loss: 0.0012 - accuracy: 5.7274e-04 - val_loss: 0.0028 - val_accuracy: 0.0052\n",
      "Epoch 33/100\n",
      " - 4s - loss: 0.0010 - accuracy: 5.7274e-04 - val_loss: 0.0039 - val_accuracy: 0.0052\n",
      "Epoch 34/100\n",
      " - 4s - loss: 0.0012 - accuracy: 5.7274e-04 - val_loss: 0.0034 - val_accuracy: 0.0052\n",
      "Epoch 35/100\n",
      " - 4s - loss: 0.0011 - accuracy: 5.7274e-04 - val_loss: 0.0043 - val_accuracy: 0.0052\n",
      "Epoch 36/100\n",
      " - 4s - loss: 0.0010 - accuracy: 5.7274e-04 - val_loss: 0.0047 - val_accuracy: 0.0052\n",
      "Epoch 37/100\n",
      " - 4s - loss: 9.5528e-04 - accuracy: 5.7274e-04 - val_loss: 0.0029 - val_accuracy: 0.0052\n",
      "Epoch 38/100\n",
      " - 4s - loss: 0.0012 - accuracy: 5.7274e-04 - val_loss: 0.0035 - val_accuracy: 0.0052\n",
      "Epoch 39/100\n",
      " - 4s - loss: 0.0010 - accuracy: 5.7274e-04 - val_loss: 0.0029 - val_accuracy: 0.0052\n",
      "Epoch 40/100\n",
      " - 4s - loss: 0.0010 - accuracy: 5.7274e-04 - val_loss: 0.0026 - val_accuracy: 0.0052\n",
      "Epoch 41/100\n",
      " - 4s - loss: 0.0011 - accuracy: 5.7274e-04 - val_loss: 0.0067 - val_accuracy: 0.0052\n",
      "Epoch 42/100\n",
      " - 4s - loss: 0.0011 - accuracy: 5.7274e-04 - val_loss: 0.0033 - val_accuracy: 0.0052\n",
      "Epoch 43/100\n",
      " - 4s - loss: 0.0010 - accuracy: 5.7274e-04 - val_loss: 0.0067 - val_accuracy: 0.0052\n",
      "Epoch 44/100\n",
      " - 4s - loss: 9.4670e-04 - accuracy: 5.7274e-04 - val_loss: 0.0027 - val_accuracy: 0.0052\n",
      "Epoch 45/100\n",
      " - 4s - loss: 0.0010 - accuracy: 5.7274e-04 - val_loss: 0.0034 - val_accuracy: 0.0052\n",
      "Epoch 46/100\n",
      " - 4s - loss: 9.6773e-04 - accuracy: 5.7274e-04 - val_loss: 0.0029 - val_accuracy: 0.0052\n",
      "Epoch 47/100\n",
      " - 4s - loss: 9.1254e-04 - accuracy: 5.7274e-04 - val_loss: 0.0036 - val_accuracy: 0.0052\n",
      "Epoch 48/100\n",
      " - 4s - loss: 8.1574e-04 - accuracy: 5.7274e-04 - val_loss: 0.0057 - val_accuracy: 0.0052\n",
      "Epoch 49/100\n",
      " - 4s - loss: 9.2217e-04 - accuracy: 5.7274e-04 - val_loss: 0.0031 - val_accuracy: 0.0052\n",
      "Epoch 50/100\n",
      " - 4s - loss: 0.0011 - accuracy: 5.7274e-04 - val_loss: 0.0034 - val_accuracy: 0.0052\n",
      "Epoch 51/100\n",
      " - 4s - loss: 8.8481e-04 - accuracy: 5.7274e-04 - val_loss: 0.0028 - val_accuracy: 0.0052\n",
      "Epoch 52/100\n",
      " - 4s - loss: 9.0347e-04 - accuracy: 5.7274e-04 - val_loss: 0.0029 - val_accuracy: 0.0052\n",
      "Epoch 53/100\n",
      " - 4s - loss: 9.0058e-04 - accuracy: 5.7274e-04 - val_loss: 0.0050 - val_accuracy: 0.0052\n",
      "Epoch 54/100\n",
      " - 4s - loss: 9.1975e-04 - accuracy: 5.7274e-04 - val_loss: 0.0038 - val_accuracy: 0.0052\n",
      "Epoch 55/100\n",
      " - 4s - loss: 8.5302e-04 - accuracy: 5.7274e-04 - val_loss: 0.0038 - val_accuracy: 0.0052\n",
      "Epoch 56/100\n",
      " - 4s - loss: 0.0010 - accuracy: 5.7274e-04 - val_loss: 0.0043 - val_accuracy: 0.0052\n",
      "Epoch 57/100\n",
      " - 4s - loss: 7.9184e-04 - accuracy: 5.7274e-04 - val_loss: 0.0062 - val_accuracy: 0.0052\n",
      "Epoch 58/100\n",
      " - 4s - loss: 9.0325e-04 - accuracy: 5.7274e-04 - val_loss: 0.0061 - val_accuracy: 0.0052\n",
      "Epoch 59/100\n",
      " - 4s - loss: 8.5637e-04 - accuracy: 5.7274e-04 - val_loss: 0.0043 - val_accuracy: 0.0052\n",
      "Epoch 60/100\n",
      " - 4s - loss: 7.9775e-04 - accuracy: 5.7274e-04 - val_loss: 0.0037 - val_accuracy: 0.0052\n",
      "Epoch 61/100\n",
      " - 4s - loss: 8.5259e-04 - accuracy: 5.7274e-04 - val_loss: 0.0063 - val_accuracy: 0.0052\n",
      "Epoch 62/100\n",
      " - 4s - loss: 8.7886e-04 - accuracy: 5.7274e-04 - val_loss: 0.0045 - val_accuracy: 0.0052\n",
      "Epoch 63/100\n",
      " - 4s - loss: 7.3754e-04 - accuracy: 5.7274e-04 - val_loss: 0.0056 - val_accuracy: 0.0052\n",
      "Epoch 64/100\n",
      " - 4s - loss: 7.3521e-04 - accuracy: 5.7274e-04 - val_loss: 0.0044 - val_accuracy: 0.0052\n",
      "Epoch 65/100\n",
      " - 4s - loss: 8.3385e-04 - accuracy: 5.7274e-04 - val_loss: 0.0047 - val_accuracy: 0.0052\n",
      "Epoch 66/100\n",
      " - 4s - loss: 7.3928e-04 - accuracy: 5.7274e-04 - val_loss: 0.0058 - val_accuracy: 0.0052\n",
      "Epoch 67/100\n",
      " - 4s - loss: 8.5756e-04 - accuracy: 5.7274e-04 - val_loss: 0.0074 - val_accuracy: 0.0052\n",
      "Epoch 68/100\n",
      " - 4s - loss: 6.8420e-04 - accuracy: 5.7274e-04 - val_loss: 0.0047 - val_accuracy: 0.0052\n",
      "Epoch 69/100\n",
      " - 4s - loss: 7.2533e-04 - accuracy: 5.7274e-04 - val_loss: 0.0061 - val_accuracy: 0.0052\n",
      "Epoch 70/100\n",
      " - 4s - loss: 7.8542e-04 - accuracy: 5.7274e-04 - val_loss: 0.0075 - val_accuracy: 0.0052\n",
      "Epoch 71/100\n",
      " - 4s - loss: 7.1873e-04 - accuracy: 5.7274e-04 - val_loss: 0.0044 - val_accuracy: 0.0052\n",
      "Epoch 72/100\n",
      " - 4s - loss: 7.5112e-04 - accuracy: 5.7274e-04 - val_loss: 0.0048 - val_accuracy: 0.0052\n",
      "Epoch 73/100\n",
      " - 4s - loss: 7.7586e-04 - accuracy: 5.7274e-04 - val_loss: 0.0049 - val_accuracy: 0.0052\n",
      "Epoch 74/100\n",
      " - 4s - loss: 6.9618e-04 - accuracy: 5.7274e-04 - val_loss: 0.0049 - val_accuracy: 0.0052\n",
      "Epoch 75/100\n",
      " - 4s - loss: 8.4443e-04 - accuracy: 5.7274e-04 - val_loss: 0.0046 - val_accuracy: 0.0052\n",
      "Epoch 76/100\n",
      " - 4s - loss: 8.2489e-04 - accuracy: 5.7274e-04 - val_loss: 0.0053 - val_accuracy: 0.0052\n",
      "Epoch 77/100\n",
      " - 4s - loss: 7.2011e-04 - accuracy: 5.7274e-04 - val_loss: 0.0051 - val_accuracy: 0.0052\n",
      "Epoch 78/100\n",
      " - 4s - loss: 6.9833e-04 - accuracy: 5.7274e-04 - val_loss: 0.0075 - val_accuracy: 0.0052\n",
      "Epoch 79/100\n",
      " - 4s - loss: 7.9277e-04 - accuracy: 5.7274e-04 - val_loss: 0.0061 - val_accuracy: 0.0052\n",
      "Epoch 80/100\n",
      " - 4s - loss: 7.5130e-04 - accuracy: 5.7274e-04 - val_loss: 0.0063 - val_accuracy: 0.0052\n",
      "Epoch 81/100\n",
      " - 4s - loss: 7.6294e-04 - accuracy: 5.7274e-04 - val_loss: 0.0049 - val_accuracy: 0.0052\n",
      "Epoch 82/100\n",
      " - 4s - loss: 7.6990e-04 - accuracy: 5.7274e-04 - val_loss: 0.0042 - val_accuracy: 0.0052\n",
      "Epoch 83/100\n",
      " - 4s - loss: 6.7641e-04 - accuracy: 5.7274e-04 - val_loss: 0.0051 - val_accuracy: 0.0052\n",
      "Epoch 84/100\n",
      " - 4s - loss: 6.6568e-04 - accuracy: 5.7274e-04 - val_loss: 0.0063 - val_accuracy: 0.0052\n",
      "Epoch 85/100\n",
      " - 4s - loss: 7.6517e-04 - accuracy: 5.7274e-04 - val_loss: 0.0049 - val_accuracy: 0.0052\n",
      "Epoch 86/100\n",
      " - 4s - loss: 6.8841e-04 - accuracy: 5.7274e-04 - val_loss: 0.0063 - val_accuracy: 0.0052\n",
      "Epoch 87/100\n",
      " - 4s - loss: 6.2093e-04 - accuracy: 5.7274e-04 - val_loss: 0.0050 - val_accuracy: 0.0052\n",
      "Epoch 88/100\n",
      " - 4s - loss: 6.5162e-04 - accuracy: 5.7274e-04 - val_loss: 0.0054 - val_accuracy: 0.0052\n",
      "Epoch 89/100\n",
      " - 4s - loss: 8.9871e-04 - accuracy: 5.7274e-04 - val_loss: 0.0104 - val_accuracy: 0.0052\n",
      "Epoch 90/100\n",
      " - 4s - loss: 7.1973e-04 - accuracy: 5.7274e-04 - val_loss: 0.0073 - val_accuracy: 0.0052\n",
      "Epoch 91/100\n",
      " - 4s - loss: 7.4194e-04 - accuracy: 5.7274e-04 - val_loss: 0.0052 - val_accuracy: 0.0052\n",
      "Epoch 92/100\n",
      " - 4s - loss: 6.1162e-04 - accuracy: 5.7274e-04 - val_loss: 0.0056 - val_accuracy: 0.0052\n",
      "Epoch 93/100\n",
      " - 4s - loss: 6.2307e-04 - accuracy: 5.7274e-04 - val_loss: 0.0061 - val_accuracy: 0.0052\n",
      "Epoch 94/100\n",
      " - 5s - loss: 7.4948e-04 - accuracy: 5.7274e-04 - val_loss: 0.0055 - val_accuracy: 0.0052\n",
      "Epoch 95/100\n",
      " - 5s - loss: 7.2108e-04 - accuracy: 5.7274e-04 - val_loss: 0.0070 - val_accuracy: 0.0052\n",
      "Epoch 96/100\n",
      " - 4s - loss: 6.3728e-04 - accuracy: 5.7274e-04 - val_loss: 0.0091 - val_accuracy: 0.0052\n",
      "Epoch 97/100\n",
      " - 4s - loss: 6.9829e-04 - accuracy: 5.7274e-04 - val_loss: 0.0081 - val_accuracy: 0.0052\n",
      "Epoch 98/100\n",
      " - 4s - loss: 7.1374e-04 - accuracy: 5.7274e-04 - val_loss: 0.0061 - val_accuracy: 0.0052\n",
      "Epoch 99/100\n",
      " - 4s - loss: 6.7216e-04 - accuracy: 5.7274e-04 - val_loss: 0.0082 - val_accuracy: 0.0052\n",
      "Epoch 100/100\n",
      " - 4s - loss: 6.5532e-04 - accuracy: 5.7274e-04 - val_loss: 0.0076 - val_accuracy: 0.0052\n"
     ]
    },
    {
     "ename": "KeyError",
     "evalue": "'acc'",
     "output_type": "error",
     "traceback": [
      "\u001b[1;31m---------------------------------------------------------------------------\u001b[0m",
      "\u001b[1;31mKeyError\u001b[0m                                  Traceback (most recent call last)",
      "\u001b[1;32m<ipython-input-35-a04d83f83833>\u001b[0m in \u001b[0;36m<module>\u001b[1;34m\u001b[0m\n\u001b[0;32m     17\u001b[0m \u001b[0mregressor\u001b[0m\u001b[1;33m.\u001b[0m\u001b[0mcompile\u001b[0m\u001b[1;33m(\u001b[0m\u001b[0moptimizer\u001b[0m \u001b[1;33m=\u001b[0m \u001b[1;34m'adam'\u001b[0m\u001b[1;33m,\u001b[0m \u001b[0mloss\u001b[0m \u001b[1;33m=\u001b[0m \u001b[1;34m'mean_squared_error'\u001b[0m\u001b[1;33m,\u001b[0m\u001b[0mmetrics\u001b[0m\u001b[1;33m=\u001b[0m\u001b[1;33m[\u001b[0m\u001b[1;34m'accuracy'\u001b[0m\u001b[1;33m]\u001b[0m\u001b[1;33m)\u001b[0m\u001b[1;33m\u001b[0m\u001b[1;33m\u001b[0m\u001b[0m\n\u001b[0;32m     18\u001b[0m \u001b[0mtrain_history\u001b[0m \u001b[1;33m=\u001b[0m \u001b[0mregressor\u001b[0m\u001b[1;33m.\u001b[0m\u001b[0mfit\u001b[0m\u001b[1;33m(\u001b[0m\u001b[0mX_train\u001b[0m\u001b[1;33m,\u001b[0m \u001b[0my_train\u001b[0m\u001b[1;33m,\u001b[0m\u001b[0mvalidation_split\u001b[0m\u001b[1;33m=\u001b[0m\u001b[1;36m0.1\u001b[0m\u001b[1;33m,\u001b[0m \u001b[0mepochs\u001b[0m\u001b[1;33m=\u001b[0m\u001b[1;36m100\u001b[0m\u001b[1;33m,\u001b[0m \u001b[0mbatch_size\u001b[0m\u001b[1;33m=\u001b[0m\u001b[1;36m32\u001b[0m\u001b[1;33m,\u001b[0m \u001b[0mverbose\u001b[0m\u001b[1;33m=\u001b[0m\u001b[1;36m2\u001b[0m\u001b[1;33m)\u001b[0m\u001b[1;33m\u001b[0m\u001b[1;33m\u001b[0m\u001b[0m\n\u001b[1;32m---> 19\u001b[1;33m \u001b[0mshow_train_history\u001b[0m\u001b[1;33m(\u001b[0m\u001b[0mtrain_history\u001b[0m\u001b[1;33m,\u001b[0m \u001b[1;34m'acc'\u001b[0m\u001b[1;33m,\u001b[0m \u001b[1;34m'val_acc'\u001b[0m\u001b[1;33m)\u001b[0m\u001b[1;33m\u001b[0m\u001b[1;33m\u001b[0m\u001b[0m\n\u001b[0m",
      "\u001b[1;32m<ipython-input-32-3b0d0e8d554a>\u001b[0m in \u001b[0;36mshow_train_history\u001b[1;34m(train_history, train, validation)\u001b[0m\n\u001b[0;32m      1\u001b[0m \u001b[1;32mdef\u001b[0m \u001b[0mshow_train_history\u001b[0m\u001b[1;33m(\u001b[0m\u001b[0mtrain_history\u001b[0m\u001b[1;33m,\u001b[0m \u001b[0mtrain\u001b[0m\u001b[1;33m,\u001b[0m \u001b[0mvalidation\u001b[0m\u001b[1;33m)\u001b[0m\u001b[1;33m:\u001b[0m\u001b[1;33m\u001b[0m\u001b[1;33m\u001b[0m\u001b[0m\n\u001b[1;32m----> 2\u001b[1;33m     \u001b[0mplt\u001b[0m\u001b[1;33m.\u001b[0m\u001b[0mplot\u001b[0m\u001b[1;33m(\u001b[0m\u001b[0mtrain_history\u001b[0m\u001b[1;33m.\u001b[0m\u001b[0mhistory\u001b[0m\u001b[1;33m[\u001b[0m\u001b[0mtrain\u001b[0m\u001b[1;33m]\u001b[0m\u001b[1;33m)\u001b[0m\u001b[1;33m\u001b[0m\u001b[1;33m\u001b[0m\u001b[0m\n\u001b[0m\u001b[0;32m      3\u001b[0m     \u001b[0mplt\u001b[0m\u001b[1;33m.\u001b[0m\u001b[0mplot\u001b[0m\u001b[1;33m(\u001b[0m\u001b[0mtrain_history\u001b[0m\u001b[1;33m.\u001b[0m\u001b[0mhistory\u001b[0m\u001b[1;33m[\u001b[0m\u001b[0mvalidation\u001b[0m\u001b[1;33m]\u001b[0m\u001b[1;33m)\u001b[0m\u001b[1;33m\u001b[0m\u001b[1;33m\u001b[0m\u001b[0m\n\u001b[0;32m      4\u001b[0m     \u001b[0mplt\u001b[0m\u001b[1;33m.\u001b[0m\u001b[0mtitle\u001b[0m\u001b[1;33m(\u001b[0m\u001b[1;34m'Train History'\u001b[0m\u001b[1;33m)\u001b[0m\u001b[1;33m\u001b[0m\u001b[1;33m\u001b[0m\u001b[0m\n\u001b[0;32m      5\u001b[0m     \u001b[0mplt\u001b[0m\u001b[1;33m.\u001b[0m\u001b[0mylabel\u001b[0m\u001b[1;33m(\u001b[0m\u001b[0mtrain\u001b[0m\u001b[1;33m)\u001b[0m\u001b[1;33m\u001b[0m\u001b[1;33m\u001b[0m\u001b[0m\n",
      "\u001b[1;31mKeyError\u001b[0m: 'acc'"
     ]
    }
   ],
   "source": [
    "regressor = Sequential()\n",
    "\n",
    "regressor.add(LSTM(units = 50, return_sequences = True, input_shape = (X_train.shape[1], 1)))\n",
    "regressor.add(Dropout(0.2))\n",
    "\n",
    "regressor.add(LSTM(units = 50, return_sequences = True))\n",
    "regressor.add(Dropout(0.2))\n",
    "\n",
    "regressor.add(LSTM(units = 50, return_sequences = True))\n",
    "regressor.add(Dropout(0.2))\n",
    "\n",
    "regressor.add(LSTM(units = 50))\n",
    "regressor.add(Dropout(0.2))\n",
    "\n",
    "regressor.add(Dense(units = 1))\n",
    "\n",
    "regressor.compile(optimizer = 'adam', loss = 'mean_squared_error',metrics=['accuracy'])\n",
    "train_history = regressor.fit(X_train, y_train,validation_split=0.1, epochs=100, batch_size=32, verbose=2)\n",
    "show_train_history(train_history)"
   ]
  },
  {
   "cell_type": "code",
   "execution_count": 37,
   "metadata": {},
   "outputs": [],
   "source": [
    "dataset_test = pd.read_csv('corn1.csv')\n",
    "real_stock_price = dataset_test.iloc[:, 1:2].values"
   ]
  },
  {
   "cell_type": "code",
   "execution_count": null,
   "metadata": {},
   "outputs": [],
   "source": []
  },
  {
   "cell_type": "code",
   "execution_count": 87,
   "metadata": {},
   "outputs": [],
   "source": [
    "dataset_total = pd.concat((dataset_train['Open'], dataset_test['Open']), axis = 0)\n",
    "inputs = dataset_total[len(dataset_total) - len(dataset_test) - 60:].values\n",
    "inputs = inputs.reshape(-1,1)\n",
    "inputs = sc.transform(inputs)\n",
    "X_test = []\n",
    "for i in range(60, 82):\n",
    "    X_test.append(inputs[i-60:i, 0])\n",
    "X_test = np.array(X_test)\n",
    "X_test = np.reshape(X_test, (X_test.shape[0], X_test.shape[1], 1))\n",
    "predicted_stock_price = regressor.predict(X_test)\n",
    "predicted_stock_price = sc.inverse_transform(predicted_stock_price)"
   ]
  },
  {
   "cell_type": "code",
   "execution_count": 93,
   "metadata": {},
   "outputs": [
    {
     "data": {
      "image/png": "[encoded data removed]",
      "text/plain": [
       "<Figure size 432x288 with 1 Axes>"
      ]
     },
     "metadata": {
      "needs_background": "light"
     },
     "output_type": "display_data"
    }
   ],
   "source": [
    "plt.plot(real_stock_price, color = 'black', label = 'Price')\n",
    "plt.plot(predicted_stock_price, color = 'green', label = 'Prediction')\n",
    "plt.title('Prediction')\n",
    "plt.xlabel('Time')\n",
    "plt.ylabel('Price')\n",
    "plt.legend()\n",
    "plt.show()"
   ]
  },
  {
   "cell_type": "code",
   "execution_count": 89,
   "metadata": {},
   "outputs": [],
   "source": [
    "a = []\n",
    "total = 0\n",
    "for i in range (len(predicted_stock_price)):\n",
    "    a.append((real_stock_price[i] - predicted_stock_price[i])/ real_stock_price[i])"
   ]
  },
  {
   "cell_type": "code",
   "execution_count": 90,
   "metadata": {
    "scrolled": true
   },
   "outputs": [],
   "source": [
    "b = []\n",
    "for i in range(len(a)):\n",
    "    b.append(a[i][0])"
   ]
  },
  {
   "cell_type": "code",
   "execution_count": 91,
   "metadata": {},
   "outputs": [
    {
     "data": {
      "text/plain": [
       "[-0.5637711815047217,\n",
       " -0.3614580839336276,\n",
       " -0.16942972617574256,\n",
       " -0.07830854514571055,\n",
       " -0.06030122143570613,\n",
       " -0.04515386347442999,\n",
       " -0.03282455053084936,\n",
       " -0.00832428935240723,\n",
       " 0.012020409840210355,\n",
       " 0.03397226333618164,\n",
       " 0.050475166779452164,\n",
       " 0.04685621995192308,\n",
       " 0.03905581013761283,\n",
       " 0.03053291556761437,\n",
       " 0.021796446295997418,\n",
       " 0.02018374860134271,\n",
       " 0.013807860864273274,\n",
       " -0.0018169546705488193,\n",
       " -0.00196957694294342,\n",
       " -0.0006448013238529226,\n",
       " -0.014534269916719045,\n",
       " -0.03963424813034188]"
      ]
     },
     "execution_count": 91,
     "metadata": {},
     "output_type": "execute_result"
    }
   ],
   "source": [
    "b"
   ]
  },
  {
   "cell_type": "code",
   "execution_count": 92,
   "metadata": {},
   "outputs": [
    {
     "data": {
      "text/plain": [
       "[<matplotlib.lines.Line2D at 0x1e296e13908>]"
      ]
     },
     "execution_count": 92,
     "metadata": {},
     "output_type": "execute_result"
    },
    {
     "data": {
      "image/png": "[encoded data removed]",
      "text/plain": [
       "<Figure size 432x288 with 1 Axes>"
      ]
     },
     "metadata": {
      "needs_background": "light"
     },
     "output_type": "display_data"
    }
   ],
   "source": [
    "plt.plot(b, color = 'black', label = 'TATA Stock Price')\n"
   ]
  },
  {
   "cell_type": "code",
   "execution_count": null,
   "metadata": {},
   "outputs": [],
   "source": []
  }
 ],
 "metadata": {
  "kernelspec": {
   "display_name": "Python 3",
   "language": "python",
   "name": "python3"
  },
  "language_info": {
   "codemirror_mode": {
    "name": "ipython",
    "version": 3
   },
   "file_extension": ".py",
   "mimetype": "text/x-python",
   "name": "python",
   "nbconvert_exporter": "python",
   "pygments_lexer": "ipython3",
   "version": "3.7.5"
  }
 },
 "nbformat": 4,
 "nbformat_minor": 2
}
